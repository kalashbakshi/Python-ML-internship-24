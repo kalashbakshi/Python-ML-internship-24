{
 "cells": [
  {
   "cell_type": "code",
   "execution_count": 8,
   "id": "9d7479ee-7add-4106-973d-d4027d67c3a8",
   "metadata": {},
   "outputs": [
    {
     "name": "stdin",
     "output_type": "stream",
     "text": [
      "Enter your epression: 5+6\n"
     ]
    },
    {
     "name": "stdout",
     "output_type": "stream",
     "text": [
      "11.0\n"
     ]
    }
   ],
   "source": [
    "# Make a calculator...input as string\n",
    "str=input(\"Enter your epression:\")\n",
    "op=\"\"\n",
    "for i in str:\n",
    "    if i in \"+-*/\":\n",
    "        op=i \n",
    "L=str.split(op)\n",
    "if op=='+':\n",
    "    print(float(L[0])+float(L[1]))\n",
    "elif op=='-':\n",
    "    print(float(L[0])-float(L[1]))\n",
    "elif op=='*':\n",
    "    print(float(L[0])*float(L[1]))\n",
    "elif op=='/':\n",
    "    print(float(L[0])/float(L[1]))\n",
    "else:\n",
    "    print(\"Invalid operator\")\n"
   ]
  },
  {
   "cell_type": "code",
   "execution_count": 9,
   "id": "b154b382-f36d-4db4-8c70-2f6d33a29b34",
   "metadata": {},
   "outputs": [
    {
     "name": "stdout",
     "output_type": "stream",
     "text": [
      "{1: 2, 2: 3, 3: 3, 4: 1}\n"
     ]
    }
   ],
   "source": [
    "DIP={'A':1,'B':1,'C':2,'D':3,'E':2,'F':2,'G':3,'H':4,'I':3}\n",
    "\n",
    "DOP={}\n",
    "\n",
    "for i in DIP.values():\n",
    "    if i in DOP.keys():\n",
    "        DOP[i]=DOP[i]+1\n",
    "    else:\n",
    "        DOP[i]=1\n",
    "print(DOP)\n",
    "    \n"
   ]
  },
  {
   "cell_type": "code",
   "execution_count": 10,
   "id": "fb38302e-c66f-4c3c-bd68-49e03b5072a4",
   "metadata": {},
   "outputs": [
    {
     "name": "stdout",
     "output_type": "stream",
     "text": [
      "7\n"
     ]
    }
   ],
   "source": [
    "def addnum(a,b):\n",
    "    c=a+b\n",
    "    print(c)\n",
    "    return \n",
    "if __name__==\"__main__\":\n",
    "    addnum(2,5)\n",
    "\n",
    "    \n",
    "\n"
   ]
  },
  {
   "cell_type": "code",
   "execution_count": 20,
   "id": "3bea9e13-de61-4990-b05a-dadb3584ae3c",
   "metadata": {},
   "outputs": [
    {
     "name": "stdin",
     "output_type": "stream",
     "text": [
      "Enter No. 12\n"
     ]
    },
    {
     "name": "stdout",
     "output_type": "stream",
     "text": [
      "12 is not a prime number\n"
     ]
    }
   ],
   "source": [
    "def primeno(n):\n",
    "    for i in range(2,n):\n",
    "        if n%i==0:\n",
    "            print(n,\"is not a prime number\")\n",
    "            return\n",
    "    print(n,\"is a Prime number\")\n",
    "    return\n",
    "n=int(input(\"Enter No.\"))\n",
    "primeno(n)\n",
    "\n",
    "      "
   ]
  },
  {
   "cell_type": "code",
   "execution_count": 23,
   "id": "1fb74096-9ac6-49af-b76f-9e6649bfa98f",
   "metadata": {},
   "outputs": [
    {
     "name": "stdout",
     "output_type": "stream",
     "text": [
      "0\n",
      "[]\n",
      "Sample\n",
      "<class '__main__.ABC'>\n"
     ]
    }
   ],
   "source": [
    " # class\n",
    "class ABC:\n",
    "    def __init__(self):\n",
    "        self.a=0\n",
    "        self.L=[]\n",
    "        self.C=\"Sample\"\n",
    "    def abc(self):\n",
    "        print(self.a)\n",
    "        print(self.L)\n",
    "        print(self.C)\n",
    " if __name__==\"__main__\":\n",
    "     obj=ABC()\n",
    "     obj.abc()\n",
    "     print(type(obj))"
   ]
  },
  {
   "cell_type": "code",
   "execution_count": 25,
   "id": "58aaf0ba-1d42-4975-a859-a7d2afc64c21",
   "metadata": {},
   "outputs": [
    {
     "name": "stdin",
     "output_type": "stream",
     "text": [
      "Enter value: abc\n",
      "Enter value: def\n",
      "Enter value: xyz\n",
      "Enter value: pqr\n",
      "Enter value: ghi\n",
      "Enter value: klm\n",
      "Enter value: nop\n",
      "Enter value: qef\n",
      "Enter value: gth\n",
      "Enter value: fvr\n"
     ]
    },
    {
     "name": "stdout",
     "output_type": "stream",
     "text": [
      "['abc', 'def', 'xyz', 'pqr', 'ghi', 'klm', 'nop', 'qef', 'gth', 'fvr']\n"
     ]
    }
   ],
   "source": [
    "l=[]\n",
    "for i in range(0,3):\n",
    "    l.append(input(\"Enter value:\"))\n",
    "print(l)"
   ]
  },
  {
   "cell_type": "code",
   "execution_count": 2,
   "id": "494ec98c-5509-4a76-a771-51f0a7875fed",
   "metadata": {},
   "outputs": [
    {
     "name": "stdin",
     "output_type": "stream",
     "text": [
      " 1 2 3 4\n"
     ]
    },
    {
     "name": "stdout",
     "output_type": "stream",
     "text": [
      "['1', '2', '3', '4']\n"
     ]
    }
   ],
   "source": [
    "l=list(map(str, input().split()))\n",
    "\n",
    "print(l)"
   ]
  },
  {
   "cell_type": "code",
   "execution_count": null,
   "id": "027d8630-8c07-4d79-ae9f-30795347ff64",
   "metadata": {},
   "outputs": [],
   "source": [
    "\n",
    "    "
   ]
  },
  {
   "cell_type": "code",
   "execution_count": null,
   "id": "f48d00bd-bcc6-4539-b502-8b1ff4f80dc9",
   "metadata": {},
   "outputs": [],
   "source": []
  }
 ],
 "metadata": {
  "kernelspec": {
   "display_name": "Python 3 (ipykernel)",
   "language": "python",
   "name": "python3"
  },
  "language_info": {
   "codemirror_mode": {
    "name": "ipython",
    "version": 3
   },
   "file_extension": ".py",
   "mimetype": "text/x-python",
   "name": "python",
   "nbconvert_exporter": "python",
   "pygments_lexer": "ipython3",
   "version": "3.12.4"
  }
 },
 "nbformat": 4,
 "nbformat_minor": 5
}
