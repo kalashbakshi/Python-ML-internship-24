{
 "cells": [
  {
   "cell_type": "code",
   "execution_count": 8,
   "id": "6f7be267-c737-4763-b6d6-e72d9cd9207b",
   "metadata": {
    "scrolled": true
   },
   "outputs": [
    {
     "name": "stdout",
     "output_type": "stream",
     "text": [
      "        *  \n",
      "      * *  \n",
      "    * * *  \n",
      "  * * * *  \n",
      "* * * * *  \n"
     ]
    }
   ],
   "source": [
    "#1.print pattern\n",
    "n=4\n",
    "for i in range(0,5):\n",
    "    for j in range(0,5):\n",
    "        if i+j>=n:\n",
    "            print(\"*\",end=\" \")\n",
    "        else:\n",
    "            print(\" \",end=\" \")\n",
    "    print(\" \")"
   ]
  },
  {
   "cell_type": "code",
   "execution_count": 10,
   "id": "1bf61a06-d0b1-4426-9bff-0a889febd1fd",
   "metadata": {},
   "outputs": [
    {
     "name": "stdin",
     "output_type": "stream",
     "text": [
      "Enter First Number: 7\n",
      "Enter Second Number: 0\n"
     ]
    },
    {
     "name": "stdout",
     "output_type": "stream",
     "text": [
      "ArithmeticException\n"
     ]
    },
    {
     "name": "stdin",
     "output_type": "stream",
     "text": [
      "Enter First Number: 8\n",
      "Enter Second Number: a\n"
     ]
    },
    {
     "name": "stdout",
     "output_type": "stream",
     "text": [
      "NumberFormatException\n"
     ]
    },
    {
     "name": "stdin",
     "output_type": "stream",
     "text": [
      "Enter First Number: 6\n",
      "Enter Second Number: 9\n"
     ]
    },
    {
     "name": "stdout",
     "output_type": "stream",
     "text": [
      "0.6666666666666666\n"
     ]
    }
   ],
   "source": [
    "#2.Arithmetic exception....Number format exception\n",
    "a=1\n",
    "while(a==1):\n",
    "    n1=input(\"Enter First Number:\")\n",
    "    n2=input(\"Enter Second Number:\")\n",
    "    try:\n",
    "        float(n1)/float(n2)\n",
    "    except ZeroDivisionError:\n",
    "        print(\"ArithmeticException\")\n",
    "        a=2\n",
    "    except ValueError:\n",
    "        print(\"NumberFormatException\")\n",
    "        a=2\n",
    "    if a==2:\n",
    "        a=1\n",
    "    else:\n",
    "        print(float(n1)/float(n2))\n",
    "        a=0\n",
    "\n",
    "\n",
    " \n",
    "    \n",
    "    "
   ]
  },
  {
   "cell_type": "code",
   "execution_count": null,
   "id": "a71102be-e397-409a-b787-99c7ae81c705",
   "metadata": {},
   "outputs": [],
   "source": [
    "#3.Sports Equipment Rental System POC:\n",
    "\n",
    "class Equipment\n"
   ]
  },
  {
   "cell_type": "code",
   "execution_count": null,
   "id": "ecbdc25c-5f30-4b82-8e58-1678e6e6b9e7",
   "metadata": {},
   "outputs": [],
   "source": []
  }
 ],
 "metadata": {
  "kernelspec": {
   "display_name": "Python 3 (ipykernel)",
   "language": "python",
   "name": "python3"
  },
  "language_info": {
   "codemirror_mode": {
    "name": "ipython",
    "version": 3
   },
   "file_extension": ".py",
   "mimetype": "text/x-python",
   "name": "python",
   "nbconvert_exporter": "python",
   "pygments_lexer": "ipython3",
   "version": "3.12.4"
  }
 },
 "nbformat": 4,
 "nbformat_minor": 5
}
