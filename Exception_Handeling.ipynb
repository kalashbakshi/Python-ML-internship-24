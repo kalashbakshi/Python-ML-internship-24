{
 "cells": [
  {
   "cell_type": "code",
   "execution_count": 8,
   "id": "34059406-f244-4f35-a365-023e1da4f43c",
   "metadata": {},
   "outputs": [
    {
     "data": {
      "text/plain": [
       "4"
      ]
     },
     "execution_count": 8,
     "metadata": {},
     "output_type": "execute_result"
    }
   ],
   "source": [
    "L=[1,2,3,4,5]\n",
    "L[3]"
   ]
  },
  {
   "cell_type": "code",
   "execution_count": 1,
   "id": "964a0d74-c060-454d-8b55-487764c2d75b",
   "metadata": {},
   "outputs": [
    {
     "name": "stdout",
     "output_type": "stream",
     "text": [
      "Hello world\n"
     ]
    },
    {
     "ename": "NameError",
     "evalue": "name 'L' is not defined",
     "output_type": "error",
     "traceback": [
      "\u001b[1;31m---------------------------------------------------------------------------\u001b[0m",
      "\u001b[1;31mNameError\u001b[0m                                 Traceback (most recent call last)",
      "Cell \u001b[1;32mIn[1], line 3\u001b[0m\n\u001b[0;32m      1\u001b[0m \u001b[38;5;28mprint\u001b[39m(\u001b[38;5;124m\"\u001b[39m\u001b[38;5;124mHello world\u001b[39m\u001b[38;5;124m\"\u001b[39m)\n\u001b[1;32m----> 3\u001b[0m \u001b[43mL\u001b[49m\n\u001b[0;32m      5\u001b[0m \u001b[38;5;28mprint\u001b[39m(L[\u001b[38;5;241m3\u001b[39m])\n\u001b[0;32m      6\u001b[0m \u001b[38;5;28;01mtry\u001b[39;00m:\n",
      "\u001b[1;31mNameError\u001b[0m: name 'L' is not defined"
     ]
    }
   ],
   "source": [
    "print(\"Hello world\")\n",
    "\n",
    "L\n",
    "\n",
    "print(L[3])\n",
    "try:\n",
    "    print(L[4])\n",
    "except:\n",
    "    print(\"invalid index\")\n",
    "\n",
    "print(\"end of code\")"
   ]
  },
  {
   "cell_type": "code",
   "execution_count": 3,
   "id": "bdbebb89-233e-466e-8d66-88cc20b4e788",
   "metadata": {},
   "outputs": [
    {
     "name": "stdout",
     "output_type": "stream",
     "text": [
      "B can't be zero\n",
      "Code executed successfully\n"
     ]
    }
   ],
   "source": [
    "a=10\n",
    "b=0\n",
    "try :\n",
    "    print(a/b)\n",
    "except :\n",
    "    print(\"B can't be zero\")\n",
    "finally :\n",
    "    print(\"Code executed successfully\")"
   ]
  },
  {
   "cell_type": "code",
   "execution_count": 6,
   "id": "34eccacc-6d99-419e-b1ad-1d6de1527390",
   "metadata": {},
   "outputs": [
    {
     "name": "stdout",
     "output_type": "stream",
     "text": [
      "2.0\n",
      "B can't be zero\n",
      "Code executed successfully\n"
     ]
    }
   ],
   "source": [
    "a=10\n",
    "b=5\n",
    "try :\n",
    "    print(a/b)\n",
    "    l[8]\n",
    "except :\n",
    "    print(\"B can't be zero\")\n",
    "finally :\n",
    "    print(\"Code executed successfully\")"
   ]
  },
  {
   "cell_type": "code",
   "execution_count": null,
   "id": "1a856c27-f4de-430e-a553-b11997ba9b61",
   "metadata": {},
   "outputs": [],
   "source": []
  }
 ],
 "metadata": {
  "kernelspec": {
   "display_name": "Python 3 (ipykernel)",
   "language": "python",
   "name": "python3"
  },
  "language_info": {
   "codemirror_mode": {
    "name": "ipython",
    "version": 3
   },
   "file_extension": ".py",
   "mimetype": "text/x-python",
   "name": "python",
   "nbconvert_exporter": "python",
   "pygments_lexer": "ipython3",
   "version": "3.12.4"
  }
 },
 "nbformat": 4,
 "nbformat_minor": 5
}
