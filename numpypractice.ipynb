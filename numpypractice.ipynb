{
 "cells": [
  {
   "cell_type": "code",
   "execution_count": 1,
   "id": "25f269b1-04c7-4460-b733-384d3ade06ad",
   "metadata": {},
   "outputs": [
    {
     "name": "stdout",
     "output_type": "stream",
     "text": [
      "Requirement already satisfied: numpy in c:\\users\\acer\\appdata\\local\\programs\\python\\python312\\lib\\site-packages (2.0.1)\n"
     ]
    },
    {
     "name": "stderr",
     "output_type": "stream",
     "text": [
      "\n",
      "[notice] A new release of pip is available: 24.0 -> 24.2\n",
      "[notice] To update, run: python.exe -m pip install --upgrade pip\n"
     ]
    }
   ],
   "source": [
    "! pip install numpy"
   ]
  },
  {
   "cell_type": "code",
   "execution_count": 2,
   "id": "5970443d-f6c5-4703-afe1-df8e3abb51dc",
   "metadata": {},
   "outputs": [],
   "source": [
    "import numpy as np"
   ]
  },
  {
   "cell_type": "code",
   "execution_count": 6,
   "id": "0e784c87-4d11-4e97-a179-caf593e8c241",
   "metadata": {},
   "outputs": [],
   "source": [
    "arr=arr np.array([1,2,3,4,5])"
   ]
  },
  {
   "cell_type": "code",
   "execution_count": 7,
   "id": "bef4c805-4f48-438d-94c5-f2763012bc9e",
   "metadata": {},
   "outputs": [
    {
     "data": {
      "text/plain": [
       "array([1, 2, 3, 4, 5])"
      ]
     },
     "execution_count": 7,
     "metadata": {},
     "output_type": "execute_result"
    }
   ],
   "source": [
    "arr"
   ]
  },
  {
   "cell_type": "code",
   "execution_count": 8,
   "id": "b826620c-187b-48bf-a565-c51c8ba08f03",
   "metadata": {},
   "outputs": [
    {
     "name": "stdout",
     "output_type": "stream",
     "text": [
      "int64\n"
     ]
    }
   ],
   "source": [
    "print(arr.dtype)"
   ]
  },
  {
   "cell_type": "code",
   "execution_count": 12,
   "id": "63106670-da4c-4330-b4c4-260d1365efe7",
   "metadata": {},
   "outputs": [],
   "source": [
    "arr2 = np.array([1,2,3,4,5],dtype=np.int16)"
   ]
  },
  {
   "cell_type": "code",
   "execution_count": 17,
   "id": "9f461fc7-ec16-4bc4-8451-a67891892d9d",
   "metadata": {},
   "outputs": [
    {
     "data": {
      "text/plain": [
       "array([1, 2, 3, 4, 5], dtype=int16)"
      ]
     },
     "execution_count": 17,
     "metadata": {},
     "output_type": "execute_result"
    }
   ],
   "source": [
    "arr2"
   ]
  },
  {
   "cell_type": "code",
   "execution_count": 18,
   "id": "85206a9f-7e02-42fe-b317-19d036455d34",
   "metadata": {},
   "outputs": [],
   "source": [
    "Z=np.zeros(5)"
   ]
  },
  {
   "cell_type": "code",
   "execution_count": 19,
   "id": "1a6a1ed8-f75d-4472-b922-fc5c140a345b",
   "metadata": {},
   "outputs": [
    {
     "data": {
      "text/plain": [
       "array([0., 0., 0., 0., 0.])"
      ]
     },
     "execution_count": 19,
     "metadata": {},
     "output_type": "execute_result"
    }
   ],
   "source": [
    "Z"
   ]
  },
  {
   "cell_type": "code",
   "execution_count": 24,
   "id": "dc93ddc1-c8f0-4a1e-88a7-d4a2c35a7211",
   "metadata": {},
   "outputs": [],
   "source": [
    "ar=np.arange(0,10,1)"
   ]
  },
  {
   "cell_type": "code",
   "execution_count": 25,
   "id": "b21c72b4-75b7-4d97-89e5-f6437aa52a2a",
   "metadata": {},
   "outputs": [
    {
     "data": {
      "text/plain": [
       "array([0, 1, 2, 3, 4, 5, 6, 7, 8, 9])"
      ]
     },
     "execution_count": 25,
     "metadata": {},
     "output_type": "execute_result"
    }
   ],
   "source": [
    "ar"
   ]
  },
  {
   "cell_type": "code",
   "execution_count": 26,
   "id": "b783987d-b64e-4200-a1f0-780dc7271510",
   "metadata": {},
   "outputs": [],
   "source": [
    "ran=np.random.rand(4)"
   ]
  },
  {
   "cell_type": "code",
   "execution_count": 27,
   "id": "0cd6ea4a-09eb-47af-a058-ffc46201372a",
   "metadata": {},
   "outputs": [
    {
     "data": {
      "text/plain": [
       "array([0.11480896, 0.89366106, 0.39762397, 0.15340434])"
      ]
     },
     "execution_count": 27,
     "metadata": {},
     "output_type": "execute_result"
    }
   ],
   "source": [
    "ran"
   ]
  },
  {
   "cell_type": "code",
   "execution_count": 28,
   "id": "e3f9388f-3456-4227-bf4e-365784ec8056",
   "metadata": {},
   "outputs": [],
   "source": [
    "ln=np.linspace(0,100,10)"
   ]
  },
  {
   "cell_type": "code",
   "execution_count": 29,
   "id": "445e7e55-70e6-4257-a50e-f2a26c6831ae",
   "metadata": {},
   "outputs": [
    {
     "data": {
      "text/plain": [
       "array([  0.        ,  11.11111111,  22.22222222,  33.33333333,\n",
       "        44.44444444,  55.55555556,  66.66666667,  77.77777778,\n",
       "        88.88888889, 100.        ])"
      ]
     },
     "execution_count": 29,
     "metadata": {},
     "output_type": "execute_result"
    }
   ],
   "source": [
    "ln"
   ]
  },
  {
   "cell_type": "code",
   "execution_count": 31,
   "id": "52f507b9-0aaa-43ef-903d-721115ea287a",
   "metadata": {},
   "outputs": [],
   "source": [
    "ar2=np.array([[1,2,3],[4,5,6],[7,8,9]])"
   ]
  },
  {
   "cell_type": "markdown",
   "id": "fee4a776-ab81-4929-bf44-3c16cc184eda",
   "metadata": {},
   "source": [
    "ar2"
   ]
  },
  {
   "cell_type": "code",
   "execution_count": 32,
   "id": "4f07d296-b3f9-4cba-b112-c0aef70efa14",
   "metadata": {},
   "outputs": [],
   "source": [
    "o1=np.ones([5,5])"
   ]
  },
  {
   "cell_type": "code",
   "execution_count": 33,
   "id": "34ca6426-5545-4ccd-ad2b-acba969dc858",
   "metadata": {},
   "outputs": [
    {
     "data": {
      "text/plain": [
       "array([[1., 1., 1., 1., 1.],\n",
       "       [1., 1., 1., 1., 1.],\n",
       "       [1., 1., 1., 1., 1.],\n",
       "       [1., 1., 1., 1., 1.],\n",
       "       [1., 1., 1., 1., 1.]])"
      ]
     },
     "execution_count": 33,
     "metadata": {},
     "output_type": "execute_result"
    }
   ],
   "source": [
    "o1"
   ]
  },
  {
   "cell_type": "code",
   "execution_count": 34,
   "id": "5e318c75-55e0-4e97-bd9d-338cd9cd24a1",
   "metadata": {},
   "outputs": [],
   "source": [
    "I=np.eye(5)"
   ]
  },
  {
   "cell_type": "code",
   "execution_count": 35,
   "id": "6de34717-783b-4eb6-9c36-908814710475",
   "metadata": {},
   "outputs": [
    {
     "data": {
      "text/plain": [
       "array([[1., 0., 0., 0., 0.],\n",
       "       [0., 1., 0., 0., 0.],\n",
       "       [0., 0., 1., 0., 0.],\n",
       "       [0., 0., 0., 1., 0.],\n",
       "       [0., 0., 0., 0., 1.]])"
      ]
     },
     "execution_count": 35,
     "metadata": {},
     "output_type": "execute_result"
    }
   ],
   "source": [
    "I"
   ]
  },
  {
   "cell_type": "code",
   "execution_count": 36,
   "id": "00352031-623b-442b-8673-45b08c33d4f1",
   "metadata": {},
   "outputs": [],
   "source": [
    "r1=np.random.rand(4,5)"
   ]
  },
  {
   "cell_type": "code",
   "execution_count": 37,
   "id": "1c10c22c-9879-45d2-b319-2343289dfc55",
   "metadata": {},
   "outputs": [
    {
     "data": {
      "text/plain": [
       "array([[0.06905912, 0.38572693, 0.81908764, 0.29314963, 0.44667002],\n",
       "       [0.52511916, 0.97461127, 0.21733169, 0.63912789, 0.3888063 ],\n",
       "       [0.83126752, 0.02211221, 0.15464525, 0.04550719, 0.71148101],\n",
       "       [0.04674922, 0.39988012, 0.86199072, 0.3607193 , 0.90695357]])"
      ]
     },
     "execution_count": 37,
     "metadata": {},
     "output_type": "execute_result"
    }
   ],
   "source": [
    "r1"
   ]
  },
  {
   "cell_type": "code",
   "execution_count": 38,
   "id": "d44fc014-793d-4b0e-8eb8-567222d106f9",
   "metadata": {},
   "outputs": [
    {
     "data": {
      "text/plain": [
       "array([0, 1, 2, 3, 4, 5, 6, 7, 8, 9])"
      ]
     },
     "execution_count": 38,
     "metadata": {},
     "output_type": "execute_result"
    }
   ],
   "source": [
    "ar"
   ]
  },
  {
   "cell_type": "code",
   "execution_count": 39,
   "id": "d8e38cf8-bdfc-4f94-9a46-f6262f37327e",
   "metadata": {},
   "outputs": [
    {
     "data": {
      "text/plain": [
       "array([[1, 2, 3],\n",
       "       [4, 5, 6],\n",
       "       [7, 8, 9]])"
      ]
     },
     "execution_count": 39,
     "metadata": {},
     "output_type": "execute_result"
    }
   ],
   "source": [
    "ar2"
   ]
  },
  {
   "cell_type": "code",
   "execution_count": 40,
   "id": "0b71bea9-160e-4d96-a85d-9c97fb3a1d90",
   "metadata": {},
   "outputs": [
    {
     "name": "stdout",
     "output_type": "stream",
     "text": [
      "10\n"
     ]
    }
   ],
   "source": [
    "print(ar.size)"
   ]
  },
  {
   "cell_type": "code",
   "execution_count": 41,
   "id": "959ed3ca-c5be-4c1f-8234-826248284c0b",
   "metadata": {},
   "outputs": [
    {
     "name": "stdout",
     "output_type": "stream",
     "text": [
      "9\n"
     ]
    }
   ],
   "source": [
    "print(ar2.size)"
   ]
  },
  {
   "cell_type": "code",
   "execution_count": 42,
   "id": "d6761ab3-a2e6-4997-a4a5-34aae751f30f",
   "metadata": {},
   "outputs": [
    {
     "name": "stdout",
     "output_type": "stream",
     "text": [
      "(10,)\n"
     ]
    }
   ],
   "source": [
    "print(ar.shape)"
   ]
  },
  {
   "cell_type": "code",
   "execution_count": 43,
   "id": "84bd6da5-aca7-4a11-948f-53862c7c979c",
   "metadata": {},
   "outputs": [
    {
     "name": "stdout",
     "output_type": "stream",
     "text": [
      "(3, 3)\n"
     ]
    }
   ],
   "source": [
    "print(ar2.shape)"
   ]
  },
  {
   "cell_type": "code",
   "execution_count": 44,
   "id": "8eb230f4-f93e-4d6e-ae93-f5db0ad614d1",
   "metadata": {},
   "outputs": [],
   "source": [
    "ar3=np.copy(ar2)"
   ]
  },
  {
   "cell_type": "code",
   "execution_count": 45,
   "id": "f5bdcbd8-6d55-4fb9-9ffd-9cc3d30b00e6",
   "metadata": {},
   "outputs": [
    {
     "data": {
      "text/plain": [
       "array([[1, 2, 3],\n",
       "       [4, 5, 6],\n",
       "       [7, 8, 9]])"
      ]
     },
     "execution_count": 45,
     "metadata": {},
     "output_type": "execute_result"
    }
   ],
   "source": [
    "ar3"
   ]
  },
  {
   "cell_type": "code",
   "execution_count": 46,
   "id": "5903d039-ffcc-4a13-b761-8fd2ce31d9f4",
   "metadata": {},
   "outputs": [],
   "source": [
    "ar3[1,2]=12\n",
    "ar3[0,1]=15"
   ]
  },
  {
   "cell_type": "code",
   "execution_count": 47,
   "id": "7982f0a2-899a-4b53-8b8c-3f3afca7359d",
   "metadata": {},
   "outputs": [
    {
     "data": {
      "text/plain": [
       "array([[ 1, 15,  3],\n",
       "       [ 4,  5, 12],\n",
       "       [ 7,  8,  9]])"
      ]
     },
     "execution_count": 47,
     "metadata": {},
     "output_type": "execute_result"
    }
   ],
   "source": [
    "ar3"
   ]
  },
  {
   "cell_type": "code",
   "execution_count": 48,
   "id": "9cabf7ae-903f-4847-a121-cb0af9934925",
   "metadata": {},
   "outputs": [],
   "source": [
    "ar3=np.sort(ar3,axis=0)"
   ]
  },
  {
   "cell_type": "code",
   "execution_count": 49,
   "id": "156cc511-d240-4abc-b429-5ebbb8c8cad3",
   "metadata": {},
   "outputs": [
    {
     "data": {
      "text/plain": [
       "array([[ 1,  5,  3],\n",
       "       [ 4,  8,  9],\n",
       "       [ 7, 15, 12]])"
      ]
     },
     "execution_count": 49,
     "metadata": {},
     "output_type": "execute_result"
    }
   ],
   "source": [
    "ar3"
   ]
  },
  {
   "cell_type": "code",
   "execution_count": 50,
   "id": "ff1843e9-dd29-4351-81a2-ee179375e729",
   "metadata": {},
   "outputs": [
    {
     "data": {
      "text/plain": [
       "np.int64(64)"
      ]
     },
     "execution_count": 50,
     "metadata": {},
     "output_type": "execute_result"
    }
   ],
   "source": [
    "ar3.sum()"
   ]
  },
  {
   "cell_type": "code",
   "execution_count": 51,
   "id": "b18a62cf-1218-4315-b1d2-651596d4d140",
   "metadata": {},
   "outputs": [
    {
     "data": {
      "text/plain": [
       "array([12, 28, 24])"
      ]
     },
     "execution_count": 51,
     "metadata": {},
     "output_type": "execute_result"
    }
   ],
   "source": [
    "ar3.sum(axis=0)"
   ]
  },
  {
   "cell_type": "code",
   "execution_count": 54,
   "id": "18ce441f-d42d-4916-8594-47a7eebdf544",
   "metadata": {},
   "outputs": [
    {
     "data": {
      "text/plain": [
       "array([ 9, 21, 34])"
      ]
     },
     "execution_count": 54,
     "metadata": {},
     "output_type": "execute_result"
    }
   ],
   "source": [
    "ar3.sum(axis=1)"
   ]
  },
  {
   "cell_type": "code",
   "execution_count": 55,
   "id": "dc8a07e9-3741-4804-bc53-f7827c15ee13",
   "metadata": {},
   "outputs": [],
   "source": [
    "ar3=np.copy(ar2)"
   ]
  },
  {
   "cell_type": "code",
   "execution_count": 66,
   "id": "ffa0d1b1-1bd3-49e8-8097-5af146f0ae4c",
   "metadata": {},
   "outputs": [
    {
     "data": {
      "text/plain": [
       "array([9.48804773e-01, 1.41727125e-01, 8.40384975e-02, 8.85817606e-01,\n",
       "       9.81650415e-01, 5.90100974e-01, 5.26600228e-01, 7.41293760e-01,\n",
       "       7.14492078e-01, 2.92052421e-01, 3.89052782e-04, 7.95206396e-02,\n",
       "       8.82064227e-01, 1.96242929e-01, 9.21681662e-01, 1.18891700e-01,\n",
       "       4.21189585e-01, 7.59809243e-01, 9.04354607e-01, 4.41305542e-01,\n",
       "       4.43464131e-01, 4.26377230e-01, 6.53037314e-01, 5.08477533e-01,\n",
       "       5.83313755e-01, 2.06149312e-03, 5.19799887e-01, 7.11502494e-01,\n",
       "       7.09119683e-01, 3.00014819e-01, 9.34736492e-01, 2.57136543e-01,\n",
       "       6.58246798e-02, 2.04690497e-01, 2.14064568e-01, 9.94833214e-01,\n",
       "       7.22786627e-01, 5.26160323e-04, 1.94791772e-01, 7.61669135e-02,\n",
       "       4.20162804e-02, 6.51644223e-01, 3.56818967e-01, 8.50935422e-01,\n",
       "       9.62793582e-01, 9.58079744e-01, 1.34244426e-01, 3.16905408e-01,\n",
       "       9.36862274e-01, 2.62271951e-01, 3.02045618e-01, 2.89459948e-01,\n",
       "       8.53958262e-02, 3.64899229e-01, 4.14603875e-01, 9.63778478e-02,\n",
       "       6.26429919e-01, 5.98543008e-01, 7.97899121e-01, 8.59303563e-01,\n",
       "       1.63837394e-01, 6.60250309e-01, 4.61618754e-01, 8.72938763e-01,\n",
       "       9.18151727e-01, 4.25286964e-01, 8.74144534e-01, 9.90768758e-01,\n",
       "       2.84751786e-01, 5.00309993e-01, 4.85318644e-01, 4.88414537e-02,\n",
       "       4.30748450e-01, 9.17006336e-01, 4.31430999e-01, 9.80557740e-01,\n",
       "       1.75837916e-01, 8.02330086e-02, 6.74127528e-03, 2.71163992e-01,\n",
       "       8.63039426e-01, 2.58186190e-01, 6.25234370e-01, 1.55076070e-01,\n",
       "       9.39079409e-02, 8.44513129e-01, 8.79100348e-01, 2.80290134e-01,\n",
       "       2.17049005e-01, 1.04832055e-01, 1.30775636e-02, 2.48307786e-01,\n",
       "       7.14026473e-01, 4.91389882e-01, 9.60493711e-01, 7.48908797e-01,\n",
       "       9.58609970e-01, 9.13291372e-01, 3.51209064e-01])"
      ]
     },
     "execution_count": 66,
     "metadata": {},
     "output_type": "execute_result"
    }
   ],
   "source": [
    "ar4=np.random.rand(99)\n",
    "ar4"
   ]
  },
  {
   "cell_type": "code",
   "execution_count": 67,
   "id": "c37c4cc8-143c-4139-85d0-bec282514b28",
   "metadata": {},
   "outputs": [
    {
     "data": {
      "text/plain": [
       "99"
      ]
     },
     "execution_count": 67,
     "metadata": {},
     "output_type": "execute_result"
    }
   ],
   "source": [
    " ar4.size"
   ]
  },
  {
   "cell_type": "code",
   "execution_count": 68,
   "id": "c2e0c779-fd5f-444c-92a6-ba05abc025fd",
   "metadata": {},
   "outputs": [
    {
     "data": {
      "text/plain": [
       "<function ndarray.reshape>"
      ]
     },
     "execution_count": 68,
     "metadata": {},
     "output_type": "execute_result"
    }
   ],
   "source": [
    "ar4.reshape"
   ]
  },
  {
   "cell_type": "code",
   "execution_count": 69,
   "id": "dab115af-f48c-4e19-a95e-22f6991e5e43",
   "metadata": {},
   "outputs": [
    {
     "data": {
      "text/plain": [
       "(99,)"
      ]
     },
     "execution_count": 69,
     "metadata": {},
     "output_type": "execute_result"
    }
   ],
   "source": [
    "ar4.shape"
   ]
  },
  {
   "cell_type": "code",
   "execution_count": 70,
   "id": "7e5dc29c-1b09-466a-931f-e37ac2c755cb",
   "metadata": {},
   "outputs": [
    {
     "data": {
      "text/plain": [
       "array([[1, 2, 3],\n",
       "       [4, 5, 6],\n",
       "       [7, 8, 9]])"
      ]
     },
     "execution_count": 70,
     "metadata": {},
     "output_type": "execute_result"
    }
   ],
   "source": [
    "ar3"
   ]
  },
  {
   "cell_type": "code",
   "execution_count": 71,
   "id": "c8a0d472-f807-4d8f-b929-dca7ee0a69bc",
   "metadata": {},
   "outputs": [],
   "source": [
    "ar3=ar3.T"
   ]
  },
  {
   "cell_type": "code",
   "execution_count": 72,
   "id": "14f8c380-9323-45a5-b3d8-4faf853ff913",
   "metadata": {},
   "outputs": [
    {
     "data": {
      "text/plain": [
       "array([[1, 4, 7],\n",
       "       [2, 5, 8],\n",
       "       [3, 6, 9]])"
      ]
     },
     "execution_count": 72,
     "metadata": {},
     "output_type": "execute_result"
    }
   ],
   "source": [
    "ar3"
   ]
  },
  {
   "cell_type": "code",
   "execution_count": 73,
   "id": "59b29e75-842a-49ce-8631-3cce0efdd3d3",
   "metadata": {},
   "outputs": [
    {
     "data": {
      "text/plain": [
       "array([0, 1, 2, 3, 4, 5, 6, 7, 8, 9])"
      ]
     },
     "execution_count": 73,
     "metadata": {},
     "output_type": "execute_result"
    }
   ],
   "source": [
    "ar"
   ]
  },
  {
   "cell_type": "code",
   "execution_count": 74,
   "id": "aa484b40-5a3a-465b-8095-1e7b20f84cda",
   "metadata": {},
   "outputs": [
    {
     "data": {
      "text/plain": [
       "array([ 0,  1,  2,  3,  4,  5,  6,  7,  8,  9, 10])"
      ]
     },
     "execution_count": 74,
     "metadata": {},
     "output_type": "execute_result"
    }
   ],
   "source": [
    "np.append(ar,10)"
   ]
  },
  {
   "cell_type": "code",
   "execution_count": 75,
   "id": "6b77ce36-f450-4267-99b9-c2ebb9385259",
   "metadata": {},
   "outputs": [
    {
     "data": {
      "text/plain": [
       "array([0, 1, 2, 3, 4, 5, 6, 7, 8, 9])"
      ]
     },
     "execution_count": 75,
     "metadata": {},
     "output_type": "execute_result"
    }
   ],
   "source": [
    "ar"
   ]
  },
  {
   "cell_type": "code",
   "execution_count": 76,
   "id": "28c72884-e7e6-497f-9564-5598ea8f161e",
   "metadata": {},
   "outputs": [],
   "source": [
    "ar=np.append(ar,10)"
   ]
  },
  {
   "cell_type": "code",
   "execution_count": 77,
   "id": "03509d39-361f-44be-aeda-ea538eb8a7a3",
   "metadata": {},
   "outputs": [
    {
     "data": {
      "text/plain": [
       "array([ 0,  1,  2,  3,  4,  5,  6,  7,  8,  9, 10])"
      ]
     },
     "execution_count": 77,
     "metadata": {},
     "output_type": "execute_result"
    }
   ],
   "source": [
    "ar"
   ]
  },
  {
   "cell_type": "code",
   "execution_count": 78,
   "id": "b0e5dd4c-0104-4d15-8190-29cedbd57fb5",
   "metadata": {},
   "outputs": [],
   "source": [
    "ar=np.delete(ar,6,axis=0)"
   ]
  },
  {
   "cell_type": "code",
   "execution_count": 79,
   "id": "a10e76a9-98a5-4fcf-a68e-00305940b165",
   "metadata": {},
   "outputs": [],
   "source": [
    "ar=np.insert(ar,6,6)"
   ]
  },
  {
   "cell_type": "code",
   "execution_count": 80,
   "id": "ca68809e-f718-457b-b7ea-9a97b99a1d08",
   "metadata": {},
   "outputs": [
    {
     "data": {
      "text/plain": [
       "array([ 0,  1,  2,  3,  4,  5,  6,  7,  8,  9, 10])"
      ]
     },
     "execution_count": 80,
     "metadata": {},
     "output_type": "execute_result"
    }
   ],
   "source": [
    "ar"
   ]
  },
  {
   "cell_type": "code",
   "execution_count": 81,
   "id": "cdebff57-33a4-49fd-88cf-6757a35ab791",
   "metadata": {},
   "outputs": [
    {
     "data": {
      "text/plain": [
       "array([[1, 2, 3],\n",
       "       [4, 5, 6],\n",
       "       [7, 8, 9]])"
      ]
     },
     "execution_count": 81,
     "metadata": {},
     "output_type": "execute_result"
    }
   ],
   "source": [
    "ar2"
   ]
  },
  {
   "cell_type": "code",
   "execution_count": 82,
   "id": "a3fcc136-3f57-427e-8827-b77246a4ef7a",
   "metadata": {},
   "outputs": [
    {
     "data": {
      "text/plain": [
       "array([[1, 4, 7],\n",
       "       [2, 5, 8],\n",
       "       [3, 6, 9]])"
      ]
     },
     "execution_count": 82,
     "metadata": {},
     "output_type": "execute_result"
    }
   ],
   "source": [
    "ar3"
   ]
  },
  {
   "cell_type": "code",
   "execution_count": 89,
   "id": "197191ab-1ffe-48fe-9dfa-b72ebe2c4a4d",
   "metadata": {},
   "outputs": [
    {
     "name": "stdout",
     "output_type": "stream",
     "text": [
      "[[1 2 3]\n",
      " [4 5 6]\n",
      " [7 8 9]\n",
      " [1 4 7]\n",
      " [2 5 8]\n",
      " [3 6 9]]\n"
     ]
    }
   ],
   "source": [
    "ar4=np.concatenate((ar2,ar3),axis=0)\n",
    "print(ar4)"
   ]
  },
  {
   "cell_type": "code",
   "execution_count": 90,
   "id": "fc8c3f2f-246d-4c7a-8019-2313b6a41e57",
   "metadata": {},
   "outputs": [
    {
     "data": {
      "text/plain": [
       "array([[1, 2, 3],\n",
       "       [4, 5, 6],\n",
       "       [7, 8, 9],\n",
       "       [1, 4, 7],\n",
       "       [2, 5, 8],\n",
       "       [3, 6, 9]])"
      ]
     },
     "execution_count": 90,
     "metadata": {},
     "output_type": "execute_result"
    }
   ],
   "source": [
    "ar5=np.concatenate((ar2,ar3),axis=0)\n",
    "ar5"
   ]
  },
  {
   "cell_type": "code",
   "execution_count": 92,
   "id": "c04dd450-e377-4ec3-bc08-4b71e153159f",
   "metadata": {},
   "outputs": [
    {
     "ename": "NameError",
     "evalue": "name 'ar6' is not defined",
     "output_type": "error",
     "traceback": [
      "\u001b[1;31m---------------------------------------------------------------------------\u001b[0m",
      "\u001b[1;31mNameError\u001b[0m                                 Traceback (most recent call last)",
      "Cell \u001b[1;32mIn[92], line 1\u001b[0m\n\u001b[1;32m----> 1\u001b[0m \u001b[43mar6\u001b[49m\n",
      "\u001b[1;31mNameError\u001b[0m: name 'ar6' is not defined"
     ]
    }
   ],
   "source": []
  },
  {
   "cell_type": "code",
   "execution_count": null,
   "id": "da455349-6a77-4e66-9a29-a5931730edc0",
   "metadata": {},
   "outputs": [],
   "source": []
  }
 ],
 "metadata": {
  "kernelspec": {
   "display_name": "Python 3 (ipykernel)",
   "language": "python",
   "name": "python3"
  },
  "language_info": {
   "codemirror_mode": {
    "name": "ipython",
    "version": 3
   },
   "file_extension": ".py",
   "mimetype": "text/x-python",
   "name": "python",
   "nbconvert_exporter": "python",
   "pygments_lexer": "ipython3",
   "version": "3.12.4"
  }
 },
 "nbformat": 4,
 "nbformat_minor": 5
}
