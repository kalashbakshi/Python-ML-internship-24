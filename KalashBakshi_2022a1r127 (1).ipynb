{
 "cells": [
  {
   "cell_type": "code",
   "execution_count": 12,
   "id": "6f7be267-c737-4763-b6d6-e72d9cd9207b",
   "metadata": {
    "scrolled": true
   },
   "outputs": [
    {
     "name": "stdout",
     "output_type": "stream",
     "text": [
      "        *  \n",
      "      * *  \n",
      "    * * *  \n",
      "  * * * *  \n",
      "* * * * *  \n"
     ]
    }
   ],
   "source": [
    "#1.print pattern\n",
    "n=4\n",
    "for i in range(0,5):\n",
    "    for j in range(0,5):\n",
    "        if i+j>=n:\n",
    "            print(\"*\",end=\" \")\n",
    "        else:\n",
    "            print(\" \",end=\" \")\n",
    "    print(\" \")"
   ]
  },
  {
   "cell_type": "code",
   "execution_count": 10,
   "id": "1bf61a06-d0b1-4426-9bff-0a889febd1fd",
   "metadata": {},
   "outputs": [
    {
     "name": "stdin",
     "output_type": "stream",
     "text": [
      "Enter First Number: 7\n",
      "Enter Second Number: 0\n"
     ]
    },
    {
     "name": "stdout",
     "output_type": "stream",
     "text": [
      "ArithmeticException\n"
     ]
    },
    {
     "name": "stdin",
     "output_type": "stream",
     "text": [
      "Enter First Number: 8\n",
      "Enter Second Number: a\n"
     ]
    },
    {
     "name": "stdout",
     "output_type": "stream",
     "text": [
      "NumberFormatException\n"
     ]
    },
    {
     "name": "stdin",
     "output_type": "stream",
     "text": [
      "Enter First Number: 6\n",
      "Enter Second Number: 9\n"
     ]
    },
    {
     "name": "stdout",
     "output_type": "stream",
     "text": [
      "0.6666666666666666\n"
     ]
    }
   ],
   "source": [
    "#2.Arithmetic exception....Number format exception\n",
    "a=1\n",
    "while(a==1):\n",
    "    n1=input(\"Enter First Number:\")\n",
    "    n2=input(\"Enter Second Number:\")\n",
    "    try:\n",
    "        float(n1)/float(n2)\n",
    "    except ZeroDivisionError:\n",
    "        print(\"ArithmeticException\")\n",
    "        a=2\n",
    "    except ValueError:\n",
    "        print(\"NumberFormatException\")\n",
    "        a=2\n",
    "    if a==2:\n",
    "        a=1\n",
    "    else:\n",
    "        print(float(n1)/float(n2))\n",
    "        a=0\n",
    "\n",
    "\n",
    " \n",
    "    \n",
    "    "
   ]
  },
  {
   "cell_type": "code",
   "execution_count": null,
   "id": "ecbdc25c-5f30-4b82-8e58-1678e6e6b9e7",
   "metadata": {},
   "outputs": [
    {
     "name": "stdout",
     "output_type": "stream",
     "text": [
      "______MENU______\n",
      "1. Stock Management \n",
      "2. Rent item \n",
      "3. Return item \n",
      "4. Print Records \n",
      "5. Exit\n"
     ]
    },
    {
     "name": "stdin",
     "output_type": "stream",
     "text": [
      "Enter your Choice 1\n"
     ]
    },
    {
     "name": "stdout",
     "output_type": "stream",
     "text": [
      "______STOCK MENU______\n",
      "1. Add item \n",
      "2. Remove item \n",
      "3. Update item \n",
      "4. Print Stock \n",
      "5. Exit\n"
     ]
    }
   ],
   "source": [
    "#3.Sports Equipment Rental System POC:\n",
    "class EQIP:\n",
    "    def __init__(self):\n",
    "        self.Eid=0\n",
    "        self.Ename=''\n",
    "        self.Ebrand=''\n",
    "        self.ETqty=0\n",
    "        self.EAqty=0\n",
    "\n",
    "    def Add_item(self):\n",
    "        self.Eid=int(input('Enter the Equipment Id : '))\n",
    "        self.Ename=input('Enter the Equipment Name : ')\n",
    "        self.Ebrand=input('Enter the Equipment Brand : ')\n",
    "        self.ETqty=int(input('Enter the Equipment Total Quantity : '))\n",
    "        self.EAqty=int(input('Enter the Equipment Available Quantity : '))\n",
    "        Stock[self.Eid]=list([self.Ename,self.Ebrand,self.ETqty,self.EAqty])\n",
    "\n",
    "    def Remove_item(self):\n",
    "        self.Eid=int(input('Enter the Equipment Id to Remove : '))\n",
    "        print(Stock[self.Eid])\n",
    "        Stock.pop(self.Eid)\n",
    "\n",
    "    def Update_Item(self):\n",
    "        self.Eid=int(input('Enter the Equipment Id to Update : '))\n",
    "        print(\"Enter input the Value in Negative if want to decrease the item\")\n",
    "        self.ETqty=int(input('Enter the Equipment Quantity to Update: '))\n",
    "        Stock[self.Eid][2]= Stock[self.Eid][2]+self.ETqty\n",
    "\n",
    "    def print_stock(self):\n",
    "        df=pd.DataFrame(Stock)\n",
    "        print(df)\n",
    "\n",
    "\n",
    "def Stock_Management():\n",
    "    choice=0\n",
    "    temp = EQIP()\n",
    "    while(choice !=5):\n",
    "        print(\"______STOCK MENU______\")\n",
    "        print(\"1. Add item \")\n",
    "        print(\"2. Remove item \")\n",
    "        print(\"3. Update item \")\n",
    "        print(\"4. Print Stock \")\n",
    "        print(\"5. Exit\")\n",
    "        choice=int(input(\"Enter your Choice\"))\n",
    "        match(choice):\n",
    "            case 1: temp.Add_Item()\n",
    "            case 2: temp.Remove_Item()\n",
    "            case 3: temp.Update_item()\n",
    "            case 4: temp.print_stock()\n",
    "            case 5: print(\"All data Saved. Exiting..... Thank You\")\n",
    "            case _: print(\"Wrong Choice\")\n",
    "class Record:\n",
    "    def __init__(self):\n",
    "        self.name=\"\"\n",
    "        self.ID=0\n",
    "        self.Eid=0\n",
    "        self.Ename=\"\"\n",
    "        self.status=\"\"\n",
    "        self.Condition=\"\"\n",
    "\n",
    "    def rent_Equip(self):\n",
    "        self.name=input(\"Enter your Name: \")\n",
    "        self.ID=int(input(\"Enter your ID: \"))\n",
    "        self.Eid=int(input(\"Enter Equipment ID of item you are renting: \"))\n",
    "        self.Ename = Stock[self.Eid][0]\n",
    "        self.status = \"Rented\"\n",
    "        self.Condition=\"Good\"\n",
    "        if  Stock[self.Eid][3]==0:\n",
    "            print(\"Item not Available\")\n",
    "        else:\n",
    "            Stock[self.Eid][3]=Stock[self.Eid][3]-1\n",
    "        Records[self.ID]=list([self.name,self.Eid,self.Ename,self.status,self.Condition])\n",
    "\n",
    "    def return_Equip(self):\n",
    "        self.ID=int(input(\"Enter your ID: \"))\n",
    "        print(\"Member Id = \",self.ID)\n",
    "        print(\"Member Name = \",Records[self.Eid][0])\n",
    "        print(\"Equipment Id = \",Records[self.Eid][1])\n",
    "        print(\"Equipment Name = \",Records[self.Eid][2])\n",
    "        print(\"Status = \",Records[self.Eid][3])\n",
    "        print(\"Condition = \",Records[self.Eid][4])\n",
    "        self.Condition=input(\"Enter the returned Condition: \")\n",
    "        self.status = \"Returned\"\n",
    "        Records[self.Eid][3]=self.status\n",
    "        Records[self.Eid][4]=self.Condition\n",
    "        Stock[self.Eid][3]=Stock[self.Eid][3]+1\n",
    "\n",
    "    def print_Records(self):\n",
    "        df=pd.DataFrame(Records)\n",
    "        print(df)\n",
    "if __name__==\"__main__\":\n",
    "    choice=0\n",
    "    rec = Record()\n",
    "    while(choice !=5):\n",
    "        print(\"______MENU______\")\n",
    "        print(\"1. Stock Management \")\n",
    "        print(\"2. Rent item \")\n",
    "        print(\"3. Return item \")\n",
    "        print(\"4. Print Records \")\n",
    "        print(\"5. Exit\")\n",
    "        choice=int(input(\"Enter your Choice\"))\n",
    "        match(choice):\n",
    "            case 1: Stock_Management()\n",
    "            case 2: rec.rent_Equip()\n",
    "            case 3: rec.return_Equip()\n",
    "            case 4: rec.print_Records()\n",
    "            case 5: print(\"All data Saved. Exiting..... Thank You\")\n",
    "            case _: print(\"Wrong Choice\")\n"
   ]
  },
  {
   "cell_type": "code",
   "execution_count": null,
   "id": "3f667d53-728f-44e1-af1c-3bcde44f79e5",
   "metadata": {},
   "outputs": [],
   "source": []
  }
 ],
 "metadata": {
  "kernelspec": {
   "display_name": "Python 3 (ipykernel)",
   "language": "python",
   "name": "python3"
  },
  "language_info": {
   "codemirror_mode": {
    "name": "ipython",
    "version": 3
   },
   "file_extension": ".py",
   "mimetype": "text/x-python",
   "name": "python",
   "nbconvert_exporter": "python",
   "pygments_lexer": "ipython3",
   "version": "3.12.4"
  }
 },
 "nbformat": 4,
 "nbformat_minor": 5
}
